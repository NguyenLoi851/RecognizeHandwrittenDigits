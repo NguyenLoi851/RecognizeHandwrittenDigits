{
  "nbformat": 4,
  "nbformat_minor": 0,
  "metadata": {
    "colab": {
      "name": "Lenet5_Pytorch_Master.ipynb",
      "provenance": [],
      "authorship_tag": "ABX9TyOUppfv+CXljJnTws8qAtfM",
      "include_colab_link": true
    },
    "kernelspec": {
      "name": "python3",
      "display_name": "Python 3"
    },
    "language_info": {
      "name": "python"
    },
    "accelerator": "GPU"
  },
  "cells": [
    {
      "cell_type": "markdown",
      "metadata": {
        "id": "view-in-github",
        "colab_type": "text"
      },
      "source": [
        "<a href=\"https://colab.research.google.com/github/NguyenLoi851/RecognizeHandwrittenDigits/blob/master/Lenet5_Pytorch_Master.ipynb\" target=\"_parent\"><img src=\"https://colab.research.google.com/assets/colab-badge.svg\" alt=\"Open In Colab\"/></a>"
      ]
    },
    {
      "cell_type": "markdown",
      "source": [
        "**Step**\n",
        "- Import libraries\n",
        "- Define constant and device\n",
        "- Load data and preprocessing\n",
        "- Visual data\n",
        "- Build neural network\n",
        "- Define model, loss function, optimize function\n",
        "- Train model\n",
        "- Test model\n",
        "- Plot result\n",
        "- Visual result"
      ],
      "metadata": {
        "id": "PeIzAoNVoipc"
      }
    },
    {
      "cell_type": "code",
      "execution_count": 51,
      "metadata": {
        "id": "B0SKYEvVoSsB"
      },
      "outputs": [],
      "source": [
        "# import libraries\n",
        "import torch\n",
        "import torch.nn as nn\n",
        "import torch.nn.functional as F\n",
        "import torchvision\n",
        "import torchvision.transforms as transforms\n",
        "import matplotlib.pyplot as plt\n",
        "from sklearn.metrics import classification_report\n",
        "import numpy as np\n",
        "from sklearn.metrics import confusion_matrix\n",
        "import seaborn as sns\n",
        "from torchvision import models\n",
        "from torchsummary import summary\n",
        "from torch.nn.modules import padding"
      ]
    },
    {
      "cell_type": "code",
      "source": [
        "# Define constant and device\n",
        "batch_size = 64\n",
        "num_classes = 10\n",
        "learning_rate = 0.001\n",
        "num_epochs = 20\n",
        "train_split = 0.75\n",
        "val_split = 1 - train_split\n",
        "\n",
        "device = torch.device('cuda' if torch.cuda.is_available() else 'cpu')\n",
        "print(device)"
      ],
      "metadata": {
        "id": "JA78m8kMrUdT",
        "colab": {
          "base_uri": "https://localhost:8080/"
        },
        "outputId": "206537a9-fe09-4504-8cfc-f681dde284d5"
      },
      "execution_count": 52,
      "outputs": [
        {
          "output_type": "stream",
          "name": "stdout",
          "text": [
            "cuda\n"
          ]
        }
      ]
    },
    {
      "cell_type": "code",
      "source": [
        "# load dataset\n",
        "train_dataset = torchvision.datasets.MNIST(root = './data', train = True, download = True, transform = transforms.ToTensor())\n",
        "test_dataset = torchvision.datasets.MNIST(root = './data', train = False, download = True, transform = transforms.ToTensor())\n",
        "\n",
        "train_dataloader = torch.utils.data.DataLoader(dataset = train_dataset, batch_size = batch_size, shuffle=True)\n",
        "test_dataloader = torch.utils.data.DataLoader(dataset = test_dataset, batch_size = batch_size)"
      ],
      "metadata": {
        "id": "Ne9_DrFKpmsp"
      },
      "execution_count": 53,
      "outputs": []
    },
    {
      "cell_type": "code",
      "source": [
        "for data in train_dataset:\n",
        "  print(data)\n",
        "  break"
      ],
      "metadata": {
        "colab": {
          "base_uri": "https://localhost:8080/"
        },
        "id": "lI-rKBxZinlO",
        "outputId": "f31ab32e-3fc3-4bb7-a1f5-afba027c79d5"
      },
      "execution_count": 54,
      "outputs": [
        {
          "output_type": "stream",
          "name": "stdout",
          "text": [
            "(tensor([[[0.0000, 0.0000, 0.0000, 0.0000, 0.0000, 0.0000, 0.0000, 0.0000,\n",
            "          0.0000, 0.0000, 0.0000, 0.0000, 0.0000, 0.0000, 0.0000, 0.0000,\n",
            "          0.0000, 0.0000, 0.0000, 0.0000, 0.0000, 0.0000, 0.0000, 0.0000,\n",
            "          0.0000, 0.0000, 0.0000, 0.0000],\n",
            "         [0.0000, 0.0000, 0.0000, 0.0000, 0.0000, 0.0000, 0.0000, 0.0000,\n",
            "          0.0000, 0.0000, 0.0000, 0.0000, 0.0000, 0.0000, 0.0000, 0.0000,\n",
            "          0.0000, 0.0000, 0.0000, 0.0000, 0.0000, 0.0000, 0.0000, 0.0000,\n",
            "          0.0000, 0.0000, 0.0000, 0.0000],\n",
            "         [0.0000, 0.0000, 0.0000, 0.0000, 0.0000, 0.0000, 0.0000, 0.0000,\n",
            "          0.0000, 0.0000, 0.0000, 0.0000, 0.0000, 0.0000, 0.0000, 0.0000,\n",
            "          0.0000, 0.0000, 0.0000, 0.0000, 0.0000, 0.0000, 0.0000, 0.0000,\n",
            "          0.0000, 0.0000, 0.0000, 0.0000],\n",
            "         [0.0000, 0.0000, 0.0000, 0.0000, 0.0000, 0.0000, 0.0000, 0.0000,\n",
            "          0.0000, 0.0000, 0.0000, 0.0000, 0.0000, 0.0000, 0.0000, 0.0000,\n",
            "          0.0000, 0.0000, 0.0000, 0.0000, 0.0000, 0.0000, 0.0000, 0.0000,\n",
            "          0.0000, 0.0000, 0.0000, 0.0000],\n",
            "         [0.0000, 0.0000, 0.0000, 0.0000, 0.0000, 0.0000, 0.0000, 0.0000,\n",
            "          0.0000, 0.0000, 0.0000, 0.0000, 0.0000, 0.0000, 0.0000, 0.0000,\n",
            "          0.0000, 0.0000, 0.0000, 0.0000, 0.0000, 0.0000, 0.0000, 0.0000,\n",
            "          0.0000, 0.0000, 0.0000, 0.0000],\n",
            "         [0.0000, 0.0000, 0.0000, 0.0000, 0.0000, 0.0000, 0.0000, 0.0000,\n",
            "          0.0000, 0.0000, 0.0000, 0.0000, 0.0118, 0.0706, 0.0706, 0.0706,\n",
            "          0.4941, 0.5333, 0.6863, 0.1020, 0.6510, 1.0000, 0.9686, 0.4980,\n",
            "          0.0000, 0.0000, 0.0000, 0.0000],\n",
            "         [0.0000, 0.0000, 0.0000, 0.0000, 0.0000, 0.0000, 0.0000, 0.0000,\n",
            "          0.1176, 0.1412, 0.3686, 0.6039, 0.6667, 0.9922, 0.9922, 0.9922,\n",
            "          0.9922, 0.9922, 0.8824, 0.6745, 0.9922, 0.9490, 0.7647, 0.2510,\n",
            "          0.0000, 0.0000, 0.0000, 0.0000],\n",
            "         [0.0000, 0.0000, 0.0000, 0.0000, 0.0000, 0.0000, 0.0000, 0.1922,\n",
            "          0.9333, 0.9922, 0.9922, 0.9922, 0.9922, 0.9922, 0.9922, 0.9922,\n",
            "          0.9922, 0.9843, 0.3647, 0.3216, 0.3216, 0.2196, 0.1529, 0.0000,\n",
            "          0.0000, 0.0000, 0.0000, 0.0000],\n",
            "         [0.0000, 0.0000, 0.0000, 0.0000, 0.0000, 0.0000, 0.0000, 0.0706,\n",
            "          0.8588, 0.9922, 0.9922, 0.9922, 0.9922, 0.9922, 0.7765, 0.7137,\n",
            "          0.9686, 0.9451, 0.0000, 0.0000, 0.0000, 0.0000, 0.0000, 0.0000,\n",
            "          0.0000, 0.0000, 0.0000, 0.0000],\n",
            "         [0.0000, 0.0000, 0.0000, 0.0000, 0.0000, 0.0000, 0.0000, 0.0000,\n",
            "          0.3137, 0.6118, 0.4196, 0.9922, 0.9922, 0.8039, 0.0431, 0.0000,\n",
            "          0.1686, 0.6039, 0.0000, 0.0000, 0.0000, 0.0000, 0.0000, 0.0000,\n",
            "          0.0000, 0.0000, 0.0000, 0.0000],\n",
            "         [0.0000, 0.0000, 0.0000, 0.0000, 0.0000, 0.0000, 0.0000, 0.0000,\n",
            "          0.0000, 0.0549, 0.0039, 0.6039, 0.9922, 0.3529, 0.0000, 0.0000,\n",
            "          0.0000, 0.0000, 0.0000, 0.0000, 0.0000, 0.0000, 0.0000, 0.0000,\n",
            "          0.0000, 0.0000, 0.0000, 0.0000],\n",
            "         [0.0000, 0.0000, 0.0000, 0.0000, 0.0000, 0.0000, 0.0000, 0.0000,\n",
            "          0.0000, 0.0000, 0.0000, 0.5451, 0.9922, 0.7451, 0.0078, 0.0000,\n",
            "          0.0000, 0.0000, 0.0000, 0.0000, 0.0000, 0.0000, 0.0000, 0.0000,\n",
            "          0.0000, 0.0000, 0.0000, 0.0000],\n",
            "         [0.0000, 0.0000, 0.0000, 0.0000, 0.0000, 0.0000, 0.0000, 0.0000,\n",
            "          0.0000, 0.0000, 0.0000, 0.0431, 0.7451, 0.9922, 0.2745, 0.0000,\n",
            "          0.0000, 0.0000, 0.0000, 0.0000, 0.0000, 0.0000, 0.0000, 0.0000,\n",
            "          0.0000, 0.0000, 0.0000, 0.0000],\n",
            "         [0.0000, 0.0000, 0.0000, 0.0000, 0.0000, 0.0000, 0.0000, 0.0000,\n",
            "          0.0000, 0.0000, 0.0000, 0.0000, 0.1373, 0.9451, 0.8824, 0.6275,\n",
            "          0.4235, 0.0039, 0.0000, 0.0000, 0.0000, 0.0000, 0.0000, 0.0000,\n",
            "          0.0000, 0.0000, 0.0000, 0.0000],\n",
            "         [0.0000, 0.0000, 0.0000, 0.0000, 0.0000, 0.0000, 0.0000, 0.0000,\n",
            "          0.0000, 0.0000, 0.0000, 0.0000, 0.0000, 0.3176, 0.9412, 0.9922,\n",
            "          0.9922, 0.4667, 0.0980, 0.0000, 0.0000, 0.0000, 0.0000, 0.0000,\n",
            "          0.0000, 0.0000, 0.0000, 0.0000],\n",
            "         [0.0000, 0.0000, 0.0000, 0.0000, 0.0000, 0.0000, 0.0000, 0.0000,\n",
            "          0.0000, 0.0000, 0.0000, 0.0000, 0.0000, 0.0000, 0.1765, 0.7294,\n",
            "          0.9922, 0.9922, 0.5882, 0.1059, 0.0000, 0.0000, 0.0000, 0.0000,\n",
            "          0.0000, 0.0000, 0.0000, 0.0000],\n",
            "         [0.0000, 0.0000, 0.0000, 0.0000, 0.0000, 0.0000, 0.0000, 0.0000,\n",
            "          0.0000, 0.0000, 0.0000, 0.0000, 0.0000, 0.0000, 0.0000, 0.0627,\n",
            "          0.3647, 0.9882, 0.9922, 0.7333, 0.0000, 0.0000, 0.0000, 0.0000,\n",
            "          0.0000, 0.0000, 0.0000, 0.0000],\n",
            "         [0.0000, 0.0000, 0.0000, 0.0000, 0.0000, 0.0000, 0.0000, 0.0000,\n",
            "          0.0000, 0.0000, 0.0000, 0.0000, 0.0000, 0.0000, 0.0000, 0.0000,\n",
            "          0.0000, 0.9765, 0.9922, 0.9765, 0.2510, 0.0000, 0.0000, 0.0000,\n",
            "          0.0000, 0.0000, 0.0000, 0.0000],\n",
            "         [0.0000, 0.0000, 0.0000, 0.0000, 0.0000, 0.0000, 0.0000, 0.0000,\n",
            "          0.0000, 0.0000, 0.0000, 0.0000, 0.0000, 0.0000, 0.1804, 0.5098,\n",
            "          0.7176, 0.9922, 0.9922, 0.8118, 0.0078, 0.0000, 0.0000, 0.0000,\n",
            "          0.0000, 0.0000, 0.0000, 0.0000],\n",
            "         [0.0000, 0.0000, 0.0000, 0.0000, 0.0000, 0.0000, 0.0000, 0.0000,\n",
            "          0.0000, 0.0000, 0.0000, 0.0000, 0.1529, 0.5804, 0.8980, 0.9922,\n",
            "          0.9922, 0.9922, 0.9804, 0.7137, 0.0000, 0.0000, 0.0000, 0.0000,\n",
            "          0.0000, 0.0000, 0.0000, 0.0000],\n",
            "         [0.0000, 0.0000, 0.0000, 0.0000, 0.0000, 0.0000, 0.0000, 0.0000,\n",
            "          0.0000, 0.0000, 0.0941, 0.4471, 0.8667, 0.9922, 0.9922, 0.9922,\n",
            "          0.9922, 0.7882, 0.3059, 0.0000, 0.0000, 0.0000, 0.0000, 0.0000,\n",
            "          0.0000, 0.0000, 0.0000, 0.0000],\n",
            "         [0.0000, 0.0000, 0.0000, 0.0000, 0.0000, 0.0000, 0.0000, 0.0000,\n",
            "          0.0902, 0.2588, 0.8353, 0.9922, 0.9922, 0.9922, 0.9922, 0.7765,\n",
            "          0.3176, 0.0078, 0.0000, 0.0000, 0.0000, 0.0000, 0.0000, 0.0000,\n",
            "          0.0000, 0.0000, 0.0000, 0.0000],\n",
            "         [0.0000, 0.0000, 0.0000, 0.0000, 0.0000, 0.0000, 0.0706, 0.6706,\n",
            "          0.8588, 0.9922, 0.9922, 0.9922, 0.9922, 0.7647, 0.3137, 0.0353,\n",
            "          0.0000, 0.0000, 0.0000, 0.0000, 0.0000, 0.0000, 0.0000, 0.0000,\n",
            "          0.0000, 0.0000, 0.0000, 0.0000],\n",
            "         [0.0000, 0.0000, 0.0000, 0.0000, 0.2157, 0.6745, 0.8863, 0.9922,\n",
            "          0.9922, 0.9922, 0.9922, 0.9569, 0.5216, 0.0431, 0.0000, 0.0000,\n",
            "          0.0000, 0.0000, 0.0000, 0.0000, 0.0000, 0.0000, 0.0000, 0.0000,\n",
            "          0.0000, 0.0000, 0.0000, 0.0000],\n",
            "         [0.0000, 0.0000, 0.0000, 0.0000, 0.5333, 0.9922, 0.9922, 0.9922,\n",
            "          0.8314, 0.5294, 0.5176, 0.0627, 0.0000, 0.0000, 0.0000, 0.0000,\n",
            "          0.0000, 0.0000, 0.0000, 0.0000, 0.0000, 0.0000, 0.0000, 0.0000,\n",
            "          0.0000, 0.0000, 0.0000, 0.0000],\n",
            "         [0.0000, 0.0000, 0.0000, 0.0000, 0.0000, 0.0000, 0.0000, 0.0000,\n",
            "          0.0000, 0.0000, 0.0000, 0.0000, 0.0000, 0.0000, 0.0000, 0.0000,\n",
            "          0.0000, 0.0000, 0.0000, 0.0000, 0.0000, 0.0000, 0.0000, 0.0000,\n",
            "          0.0000, 0.0000, 0.0000, 0.0000],\n",
            "         [0.0000, 0.0000, 0.0000, 0.0000, 0.0000, 0.0000, 0.0000, 0.0000,\n",
            "          0.0000, 0.0000, 0.0000, 0.0000, 0.0000, 0.0000, 0.0000, 0.0000,\n",
            "          0.0000, 0.0000, 0.0000, 0.0000, 0.0000, 0.0000, 0.0000, 0.0000,\n",
            "          0.0000, 0.0000, 0.0000, 0.0000],\n",
            "         [0.0000, 0.0000, 0.0000, 0.0000, 0.0000, 0.0000, 0.0000, 0.0000,\n",
            "          0.0000, 0.0000, 0.0000, 0.0000, 0.0000, 0.0000, 0.0000, 0.0000,\n",
            "          0.0000, 0.0000, 0.0000, 0.0000, 0.0000, 0.0000, 0.0000, 0.0000,\n",
            "          0.0000, 0.0000, 0.0000, 0.0000]]]), 5)\n"
          ]
        }
      ]
    },
    {
      "cell_type": "code",
      "source": [
        "# Calculate mean and std of train and test dataset\n",
        "def get_mean_and_std(dataloader):\n",
        "    channels_sum, channels_squared_sum, num_batches = 0, 0, 0\n",
        "    for data, _ in dataloader:\n",
        "        # Mean over batch, height and width, but not over the channels\n",
        "        channels_sum += torch.mean(data, dim=[0,2,3])\n",
        "        channels_squared_sum += torch.mean(data**2, dim=[0,2,3])\n",
        "        num_batches += 1\n",
        "    \n",
        "    mean = channels_sum / num_batches\n",
        "\n",
        "    # std = sqrt(E[X^2] - (E[X])^2)\n",
        "    std = (channels_squared_sum / num_batches - mean ** 2) ** 0.5\n",
        "\n",
        "    return mean, std\n",
        "\n",
        "train_mean, train_std = get_mean_and_std(train_dataloader)\n",
        "train_mean, train_std = train_mean.item(), train_std.item()\n",
        "print('Mean and std of train dataset: {:.4f}, {:.4f}'.format(train_mean, train_std))\n",
        "\n",
        "test_mean, test_std = get_mean_and_std(test_dataloader)\n",
        "test_mean, test_std = test_mean.item(), test_std.item()\n",
        "print('Mean and std of test dataset: {:.4f}, {:.4f}'.format(test_mean, test_std))"
      ],
      "metadata": {
        "id": "wucKJfprrrrr",
        "colab": {
          "base_uri": "https://localhost:8080/"
        },
        "outputId": "b21fc1fa-338d-45c5-f4e7-a4300957bb15"
      },
      "execution_count": 55,
      "outputs": [
        {
          "output_type": "stream",
          "name": "stdout",
          "text": [
            "Mean and std of train dataset: 0.1307, 0.3081\n",
            "Mean and std of test dataset: 0.1327, 0.3107\n"
          ]
        }
      ]
    },
    {
      "cell_type": "code",
      "source": [
        "# Loading the dataset and preprocessing\n",
        "train_dataset = torchvision.datasets.MNIST(root = './data', train = True, \n",
        "                transform = transforms.Compose([transforms.Resize((32,32)), \n",
        "                transforms.ToTensor(), \n",
        "                transforms.Normalize(mean = (train_mean,), std = (train_std,))]), \n",
        "                download = True)\n",
        "\n",
        "# Split to train and validation dataset\n",
        "\n",
        "num_train_samples = int(len(train_dataset)*train_split)\n",
        "\n",
        "num_val_samples = int(len(train_dataset)*val_split)\n",
        "\n",
        "(train_dataset, val_dataset) = torch.utils.data.random_split(train_dataset,\n",
        "                                [num_train_samples, num_val_samples], \n",
        "                                generator = torch.manual_seed(10))\n",
        "\n",
        "\n",
        "train_dataloader = torch.utils.data.DataLoader(dataset = train_dataset, batch_size = batch_size, shuffle = True)\n",
        "\n",
        "test_dataset = torchvision.datasets.MNIST(root = './data', train = False, \n",
        "                transform = transforms.Compose([transforms.Resize((32,32)), \n",
        "                transforms.ToTensor(),\n",
        "                transforms.Normalize(mean = (test_mean,), std = (test_std,))]), \n",
        "                download = True)\n",
        "\n",
        "test_dataloader = torch.utils.data.DataLoader(dataset = test_dataset, batch_size = batch_size)\n",
        "\n",
        "val_dataloader = torch.utils.data.DataLoader(dataset = val_dataset, batch_size = batch_size)"
      ],
      "metadata": {
        "id": "nJYJBsQP1nZT"
      },
      "execution_count": 56,
      "outputs": []
    },
    {
      "cell_type": "code",
      "source": [
        "for data in train_dataloader:\n",
        "  print(data)\n",
        "  break"
      ],
      "metadata": {
        "colab": {
          "base_uri": "https://localhost:8080/"
        },
        "id": "rDqsNaz5i093",
        "outputId": "e472af9e-621f-4446-cf3a-0313d317fca5"
      },
      "execution_count": 57,
      "outputs": [
        {
          "output_type": "stream",
          "name": "stdout",
          "text": [
            "[tensor([[[[-0.4241, -0.4241, -0.4241,  ..., -0.4241, -0.4241, -0.4241],\n",
            "          [-0.4241, -0.4241, -0.4241,  ..., -0.4241, -0.4241, -0.4241],\n",
            "          [-0.4241, -0.4241, -0.4241,  ..., -0.4241, -0.4241, -0.4241],\n",
            "          ...,\n",
            "          [-0.4241, -0.4241, -0.4241,  ..., -0.4241, -0.4241, -0.4241],\n",
            "          [-0.4241, -0.4241, -0.4241,  ..., -0.4241, -0.4241, -0.4241],\n",
            "          [-0.4241, -0.4241, -0.4241,  ..., -0.4241, -0.4241, -0.4241]]],\n",
            "\n",
            "\n",
            "        [[[-0.4241, -0.4241, -0.4241,  ..., -0.4241, -0.4241, -0.4241],\n",
            "          [-0.4241, -0.4241, -0.4241,  ..., -0.4241, -0.4241, -0.4241],\n",
            "          [-0.4241, -0.4241, -0.4241,  ..., -0.4241, -0.4241, -0.4241],\n",
            "          ...,\n",
            "          [-0.4241, -0.4241, -0.4241,  ..., -0.4241, -0.4241, -0.4241],\n",
            "          [-0.4241, -0.4241, -0.4241,  ..., -0.4241, -0.4241, -0.4241],\n",
            "          [-0.4241, -0.4241, -0.4241,  ..., -0.4241, -0.4241, -0.4241]]],\n",
            "\n",
            "\n",
            "        [[[-0.4241, -0.4241, -0.4241,  ..., -0.4241, -0.4241, -0.4241],\n",
            "          [-0.4241, -0.4241, -0.4241,  ..., -0.4241, -0.4241, -0.4241],\n",
            "          [-0.4241, -0.4241, -0.4241,  ..., -0.4241, -0.4241, -0.4241],\n",
            "          ...,\n",
            "          [-0.4241, -0.4241, -0.4241,  ..., -0.4241, -0.4241, -0.4241],\n",
            "          [-0.4241, -0.4241, -0.4241,  ..., -0.4241, -0.4241, -0.4241],\n",
            "          [-0.4241, -0.4241, -0.4241,  ..., -0.4241, -0.4241, -0.4241]]],\n",
            "\n",
            "\n",
            "        ...,\n",
            "\n",
            "\n",
            "        [[[-0.4241, -0.4241, -0.4241,  ..., -0.4241, -0.4241, -0.4241],\n",
            "          [-0.4241, -0.4241, -0.4241,  ..., -0.4241, -0.4241, -0.4241],\n",
            "          [-0.4241, -0.4241, -0.4241,  ..., -0.4241, -0.4241, -0.4241],\n",
            "          ...,\n",
            "          [-0.4241, -0.4241, -0.4241,  ..., -0.4241, -0.4241, -0.4241],\n",
            "          [-0.4241, -0.4241, -0.4241,  ..., -0.4241, -0.4241, -0.4241],\n",
            "          [-0.4241, -0.4241, -0.4241,  ..., -0.4241, -0.4241, -0.4241]]],\n",
            "\n",
            "\n",
            "        [[[-0.4241, -0.4241, -0.4241,  ..., -0.4241, -0.4241, -0.4241],\n",
            "          [-0.4241, -0.4241, -0.4241,  ..., -0.4241, -0.4241, -0.4241],\n",
            "          [-0.4241, -0.4241, -0.4241,  ..., -0.4241, -0.4241, -0.4241],\n",
            "          ...,\n",
            "          [-0.4241, -0.4241, -0.4241,  ..., -0.4241, -0.4241, -0.4241],\n",
            "          [-0.4241, -0.4241, -0.4241,  ..., -0.4241, -0.4241, -0.4241],\n",
            "          [-0.4241, -0.4241, -0.4241,  ..., -0.4241, -0.4241, -0.4241]]],\n",
            "\n",
            "\n",
            "        [[[-0.4241, -0.4241, -0.4241,  ..., -0.4241, -0.4241, -0.4241],\n",
            "          [-0.4241, -0.4241, -0.4241,  ..., -0.4241, -0.4241, -0.4241],\n",
            "          [-0.4241, -0.4241, -0.4241,  ..., -0.4241, -0.4241, -0.4241],\n",
            "          ...,\n",
            "          [-0.4241, -0.4241, -0.4241,  ..., -0.4241, -0.4241, -0.4241],\n",
            "          [-0.4241, -0.4241, -0.4241,  ..., -0.4241, -0.4241, -0.4241],\n",
            "          [-0.4241, -0.4241, -0.4241,  ..., -0.4241, -0.4241, -0.4241]]]]), tensor([8, 2, 2, 8, 9, 7, 8, 2, 7, 2, 4, 6, 9, 3, 5, 6, 4, 1, 1, 8, 8, 1, 1, 2,\n",
            "        7, 5, 6, 1, 4, 0, 0, 0, 0, 4, 1, 4, 4, 1, 1, 5, 8, 9, 1, 0, 4, 4, 4, 2,\n",
            "        7, 1, 4, 2, 0, 1, 2, 0, 3, 8, 6, 1, 6, 7, 1, 0])]\n"
          ]
        }
      ]
    },
    {
      "cell_type": "code",
      "source": [
        "# Visual data shape\n",
        "examples = enumerate(train_dataloader)\n",
        "batch_idx, (example_data, example_targets) = next(examples)\n",
        "print('Batch:',batch_idx)\n",
        "print('Shape of input data:', example_data.shape)\n",
        "print('Shape of output target:', example_targets.shape)"
      ],
      "metadata": {
        "id": "HpSXFaUG2q78",
        "colab": {
          "base_uri": "https://localhost:8080/"
        },
        "outputId": "d33eaac9-661c-4f00-d9be-88c17a4b45cb"
      },
      "execution_count": 58,
      "outputs": [
        {
          "output_type": "stream",
          "name": "stdout",
          "text": [
            "Batch: 0\n",
            "Shape of input data: torch.Size([64, 1, 32, 32])\n",
            "Shape of output target: torch.Size([64])\n"
          ]
        }
      ]
    },
    {
      "cell_type": "code",
      "source": [
        "# Visual data\n",
        "for i in range(15):\n",
        "  plt.subplot(3,5,i+1)\n",
        "  plt.tight_layout()\n",
        "  plt.imshow(example_data[i][0], cmap='gray', interpolation='none')\n",
        "  plt.title(\"Taget: {}\".format(example_targets[i]))\n",
        "  plt.xticks([])\n",
        "  plt.yticks([])\n"
      ],
      "metadata": {
        "id": "pDNndGl05qMV",
        "colab": {
          "base_uri": "https://localhost:8080/",
          "height": 277
        },
        "outputId": "fc00b407-1b7b-48b0-930b-fb0cce5f94a4"
      },
      "execution_count": 59,
      "outputs": [
        {
          "output_type": "display_data",
          "data": {
            "text/plain": [
              "<Figure size 432x288 with 15 Axes>"
            ],
            "image/png": "[encoded data removed]"
          },
          "metadata": {}
        }
      ]
    },
    {
      "cell_type": "code",
      "source": [
        "# Build neural network\n",
        "class Net(nn.Module):\n",
        "  def __init__(self,num_classes):\n",
        "    super(Net, self).__init__()\n",
        "    self.conv1 = nn.Conv2d(in_channels=1, out_channels=6, kernel_size=7, stride=1, padding=0)\n",
        "    self.tanh1 = nn.Tanh()\n",
        "    self.avgpool1 = nn.AvgPool2d(kernel_size=(2,2), stride = 2)\n",
        "\n",
        "    self.conv2 = nn.Conv2d(in_channels=6, out_channels=16, kernel_size=5, padding=(1,1))\n",
        "    self.tanh2 = nn.Tanh()\n",
        "    self.avgpool2 = nn.AvgPool2d(kernel_size=(2,2), stride=2)\n",
        "    \n",
        "    self.fc1 = nn.Linear(in_features=16*5*5, out_features=120)\n",
        "    self.fc2 = nn.Linear(in_features=120, out_features=84)\n",
        "    self.tanh3 = nn.Tanh()\n",
        "    self.fc3 = nn.Linear(in_features=84, out_features=num_classes)\n",
        "    self.logSoftmax = nn.LogSoftmax(dim=1)\n",
        "  \n",
        "  def forward(self, x):\n",
        "    x = self.conv1(x)\n",
        "    x = self.tanh1(x)\n",
        "    x = self.avgpool1(x)\n",
        "    x = self.conv2(x)\n",
        "    x = self.tanh2(x)\n",
        "    x = self.avgpool2(x)\n",
        "    x = torch.flatten(x,1)\n",
        "    x = self.fc1(x)\n",
        "    x = self.fc2(x)\n",
        "    x = self.tanh3(x)\n",
        "    x = self.fc3(x)\n",
        "    x = self.logSoftmax(x)\n",
        "    return x"
      ],
      "metadata": {
        "id": "NORJIihO7obB"
      },
      "execution_count": 60,
      "outputs": []
    },
    {
      "cell_type": "code",
      "source": [
        "# Summary parameter of model\n",
        "model = Net(num_classes).to(device)\n",
        "summary(model, (1, 32, 32))"
      ],
      "metadata": {
        "id": "YZ6K7JclqsUs",
        "colab": {
          "base_uri": "https://localhost:8080/"
        },
        "outputId": "ca0cd1b8-ff7c-4b87-aa49-a5f626d56aeb"
      },
      "execution_count": 61,
      "outputs": [
        {
          "output_type": "stream",
          "name": "stdout",
          "text": [
            "----------------------------------------------------------------\n",
            "        Layer (type)               Output Shape         Param #\n",
            "================================================================\n",
            "            Conv2d-1            [-1, 6, 26, 26]             300\n",
            "              Tanh-2            [-1, 6, 26, 26]               0\n",
            "         AvgPool2d-3            [-1, 6, 13, 13]               0\n",
            "            Conv2d-4           [-1, 16, 11, 11]           2,416\n",
            "              Tanh-5           [-1, 16, 11, 11]               0\n",
            "         AvgPool2d-6             [-1, 16, 5, 5]               0\n",
            "            Linear-7                  [-1, 120]          48,120\n",
            "            Linear-8                   [-1, 84]          10,164\n",
            "              Tanh-9                   [-1, 84]               0\n",
            "           Linear-10                   [-1, 10]             850\n",
            "       LogSoftmax-11                   [-1, 10]               0\n",
            "================================================================\n",
            "Total params: 61,850\n",
            "Trainable params: 61,850\n",
            "Non-trainable params: 0\n",
            "----------------------------------------------------------------\n",
            "Input size (MB): 0.00\n",
            "Forward/backward pass size (MB): 0.10\n",
            "Params size (MB): 0.24\n",
            "Estimated Total Size (MB): 0.34\n",
            "----------------------------------------------------------------\n"
          ]
        }
      ]
    },
    {
      "cell_type": "code",
      "source": [
        "print(model.conv1.weight.shape)"
      ],
      "metadata": {
        "colab": {
          "base_uri": "https://localhost:8080/"
        },
        "id": "whWQyMjozmtW",
        "outputId": "c186ad5b-8acb-482e-d43b-15a39593f4d4"
      },
      "execution_count": 72,
      "outputs": [
        {
          "output_type": "stream",
          "name": "stdout",
          "text": [
            "torch.Size([6, 1, 7, 7])\n"
          ]
        }
      ]
    },
    {
      "cell_type": "code",
      "source": [
        "# Define model, loss function, optimizer function\n",
        "model = Net(num_classes).to(device)\n",
        "cost_function = nn.CrossEntropyLoss()\n",
        "optimizer_function = torch.optim.Adam(model.parameters(), lr=learning_rate)"
      ],
      "metadata": {
        "id": "km8hPB3CBq5K"
      },
      "execution_count": 62,
      "outputs": []
    },
    {
      "cell_type": "code",
      "source": [
        "# Define list to save information about loss value and accuracy value\n",
        "train_loss = []\n",
        "train_acc = []\n",
        "\n",
        "val_loss = []\n",
        "val_acc = []\n",
        "\n",
        "test_loss = []\n",
        "test_acc = []"
      ],
      "metadata": {
        "id": "nZHTH_eTFp09"
      },
      "execution_count": 63,
      "outputs": []
    },
    {
      "cell_type": "code",
      "source": [
        "# Train model\n",
        "total_step = len(train_dataloader)\n",
        "for epoch in range(num_epochs):\n",
        "  model.train()\n",
        "\n",
        "  totalTrainLoss = 0\n",
        "  totalValLoss = 0\n",
        "  trainCorrect = 0\n",
        "  valCorrect = 0\n",
        "\n",
        "  for batch_idx, (images, labels) in enumerate(train_dataloader):\n",
        "    images = images.to(device)\n",
        "    labels = labels.to(device)\n",
        "    outputs = model(images)\n",
        "    loss = cost_function(outputs, labels)\n",
        "    optimizer_function.zero_grad()\n",
        "    loss.backward()\n",
        "    optimizer_function.step()\n",
        "\n",
        "    totalTrainLoss += loss\n",
        "    trainCorrect += (outputs.argmax(1) == labels).sum().item()\n",
        "\n",
        "  with torch.no_grad():\n",
        "    model.eval()\n",
        "\n",
        "    for batch_idx, (images, labels) in enumerate(val_dataloader):\n",
        "      images = images.to(device)\n",
        "      labels = labels.to(device)\n",
        "      outputs = model(images)\n",
        "      totalValLoss += cost_function(outputs, labels)\n",
        "      valCorrect += (outputs.argmax(1) == labels).sum().item()\n",
        "\n",
        "  avgTrainLoss = totalTrainLoss / len(train_dataloader.dataset)\n",
        "  avgValLoss = totalValLoss / len(val_dataloader.dataset)\n",
        "  trainCorrect /= len(train_dataloader.dataset)\n",
        "  valCorrect /= len(val_dataloader.dataset)\n",
        "\n",
        "  train_loss.append(avgTrainLoss.cpu().detach().numpy())\n",
        "  train_acc.append(trainCorrect)\n",
        "  val_loss.append(avgValLoss.cpu().detach().numpy())\n",
        "  val_acc.append(valCorrect)\n",
        "\n",
        "  print('Epoch: {}/{}'.format(epoch+1, num_epochs))\n",
        "  print('Train loss: {:.4f}, Train accuracy: {:.4f}'.format(avgTrainLoss, trainCorrect))\n",
        "  print('Val loss: {:.4f}, Val accuracy: {:.4f}\\n'.format(avgValLoss, valCorrect))\n",
        "\n",
        "with torch.no_grad():\n",
        "  model.eval()\n",
        "  outputsList = []\n",
        "  for (images, labels) in test_dataloader:\n",
        "    images = images.to(device)\n",
        "    outputs = model(images)\n",
        "    outputsList.extend(outputs.argmax(axis=1).cpu().numpy())\n",
        "print(classification_report(test_dataset.targets.cpu().numpy(),\n",
        "                            np.array(outputsList), target_names = test_dataset.classes))"
      ],
      "metadata": {
        "id": "e3T2zQ6BF5gW",
        "colab": {
          "base_uri": "https://localhost:8080/"
        },
        "outputId": "bcf6782d-dc60-44b6-a473-b9b48bc4acd7"
      },
      "execution_count": 64,
      "outputs": [
        {
          "output_type": "stream",
          "name": "stdout",
          "text": [
            "Epoch: 1/20\n",
            "Train loss: 0.0047, Train accuracy: 0.9151\n",
            "Val loss: 0.0020, Val accuracy: 0.9626\n",
            "\n",
            "Epoch: 2/20\n",
            "Train loss: 0.0015, Train accuracy: 0.9717\n",
            "Val loss: 0.0013, Val accuracy: 0.9757\n",
            "\n",
            "Epoch: 3/20\n",
            "Train loss: 0.0010, Train accuracy: 0.9799\n",
            "Val loss: 0.0010, Val accuracy: 0.9797\n",
            "\n",
            "Epoch: 4/20\n",
            "Train loss: 0.0008, Train accuracy: 0.9837\n",
            "Val loss: 0.0009, Val accuracy: 0.9816\n",
            "\n",
            "Epoch: 5/20\n",
            "Train loss: 0.0007, Train accuracy: 0.9872\n",
            "Val loss: 0.0009, Val accuracy: 0.9831\n",
            "\n",
            "Epoch: 6/20\n",
            "Train loss: 0.0006, Train accuracy: 0.9879\n",
            "Val loss: 0.0008, Val accuracy: 0.9848\n",
            "\n",
            "Epoch: 7/20\n",
            "Train loss: 0.0006, Train accuracy: 0.9885\n",
            "Val loss: 0.0007, Val accuracy: 0.9868\n",
            "\n",
            "Epoch: 8/20\n",
            "Train loss: 0.0005, Train accuracy: 0.9889\n",
            "Val loss: 0.0009, Val accuracy: 0.9839\n",
            "\n",
            "Epoch: 9/20\n",
            "Train loss: 0.0005, Train accuracy: 0.9901\n",
            "Val loss: 0.0007, Val accuracy: 0.9871\n",
            "\n",
            "Epoch: 10/20\n",
            "Train loss: 0.0004, Train accuracy: 0.9918\n",
            "Val loss: 0.0010, Val accuracy: 0.9817\n",
            "\n",
            "Epoch: 11/20\n",
            "Train loss: 0.0004, Train accuracy: 0.9907\n",
            "Val loss: 0.0007, Val accuracy: 0.9859\n",
            "\n",
            "Epoch: 12/20\n",
            "Train loss: 0.0004, Train accuracy: 0.9926\n",
            "Val loss: 0.0007, Val accuracy: 0.9870\n",
            "\n",
            "Epoch: 13/20\n",
            "Train loss: 0.0003, Train accuracy: 0.9928\n",
            "Val loss: 0.0007, Val accuracy: 0.9872\n",
            "\n",
            "Epoch: 14/20\n",
            "Train loss: 0.0003, Train accuracy: 0.9932\n",
            "Val loss: 0.0010, Val accuracy: 0.9803\n",
            "\n",
            "Epoch: 15/20\n",
            "Train loss: 0.0003, Train accuracy: 0.9932\n",
            "Val loss: 0.0008, Val accuracy: 0.9859\n",
            "\n",
            "Epoch: 16/20\n",
            "Train loss: 0.0003, Train accuracy: 0.9936\n",
            "Val loss: 0.0007, Val accuracy: 0.9879\n",
            "\n",
            "Epoch: 17/20\n",
            "Train loss: 0.0003, Train accuracy: 0.9937\n",
            "Val loss: 0.0008, Val accuracy: 0.9863\n",
            "\n",
            "Epoch: 18/20\n",
            "Train loss: 0.0003, Train accuracy: 0.9933\n",
            "Val loss: 0.0007, Val accuracy: 0.9883\n",
            "\n",
            "Epoch: 19/20\n",
            "Train loss: 0.0003, Train accuracy: 0.9934\n",
            "Val loss: 0.0008, Val accuracy: 0.9848\n",
            "\n",
            "Epoch: 20/20\n",
            "Train loss: 0.0003, Train accuracy: 0.9939\n",
            "Val loss: 0.0008, Val accuracy: 0.9860\n",
            "\n",
            "              precision    recall  f1-score   support\n",
            "\n",
            "    0 - zero       0.99      1.00      0.99       980\n",
            "     1 - one       0.99      0.99      0.99      1135\n",
            "     2 - two       1.00      0.99      0.99      1032\n",
            "   3 - three       0.98      0.99      0.98      1010\n",
            "    4 - four       0.99      0.99      0.99       982\n",
            "    5 - five       0.99      0.97      0.98       892\n",
            "     6 - six       0.99      0.99      0.99       958\n",
            "   7 - seven       0.98      0.99      0.98      1028\n",
            "   8 - eight       0.99      0.99      0.99       974\n",
            "    9 - nine       0.99      0.99      0.99      1009\n",
            "\n",
            "    accuracy                           0.99     10000\n",
            "   macro avg       0.99      0.99      0.99     10000\n",
            "weighted avg       0.99      0.99      0.99     10000\n",
            "\n"
          ]
        }
      ]
    },
    {
      "cell_type": "code",
      "source": [
        "# Plot loss and accuracy\n",
        "plt.figure()\n",
        "plt.plot(train_loss, label=\"train_loss\")\n",
        "plt.plot(val_loss, label=\"val_loss\")\n",
        "plt.title(\"Training Loss on Dataset\")\n",
        "plt.xlabel(\"Epoch #\")\n",
        "plt.ylabel(\"Loss\")\n",
        "plt.legend(loc = \"upper right\")\n",
        "\n",
        "plt.figure()\n",
        "plt.plot(train_acc, label=\"train_acc\")\n",
        "plt.plot(val_acc, label=\"val_acc\")\n",
        "plt.title(\"Training Accuracy on Dataset\")\n",
        "plt.xlabel(\"Epoch #\")\n",
        "plt.ylabel(\"Accuracy\")\n",
        "plt.legend(loc = \"lower right\")"
      ],
      "metadata": {
        "id": "H390g1fIgqSp",
        "colab": {
          "base_uri": "https://localhost:8080/",
          "height": 590
        },
        "outputId": "e1ec12d0-c353-4ae9-e260-8ad001195d6c"
      },
      "execution_count": 65,
      "outputs": [
        {
          "output_type": "execute_result",
          "data": {
            "text/plain": [
              "<matplotlib.legend.Legend at 0x7f53f4be5c90>"
            ]
          },
          "metadata": {},
          "execution_count": 65
        },
        {
          "output_type": "display_data",
          "data": {
            "text/plain": [
              "<Figure size 432x288 with 1 Axes>"
            ],
            "image/png": "[encoded data removed]"
          },
          "metadata": {
            "needs_background": "light"
          }
        },
        {
          "output_type": "display_data",
          "data": {
            "text/plain": [
              "<Figure size 432x288 with 1 Axes>"
            ],
            "image/png": "[encoded data removed]"
          },
          "metadata": {
            "needs_background": "light"
          }
        }
      ]
    },
    {
      "cell_type": "code",
      "source": [
        "# Test\n",
        "with torch.no_grad():\n",
        "  correct = 0\n",
        "  total = 0\n",
        "  y_test = []\n",
        "  y_pred = []\n",
        "  for images, labels in test_dataloader:\n",
        "    images = images.to(device)\n",
        "    labels = labels.to(device)\n",
        "    y_test.extend(labels.cpu().numpy())\n",
        "    outputs = model(images)\n",
        "    y_pred.extend(outputs.argmax(axis=1).cpu().numpy())\n",
        "    _, predicted = torch.max(outputs.data, 1)\n",
        "    total += labels.size(0)\n",
        "    correct += (predicted == labels).sum().item()\n",
        "  print('Accuracy of the network on the {} test images: {} %'.\n",
        "        format(total, 100*correct/total))"
      ],
      "metadata": {
        "id": "O0mWhfncHTFC",
        "colab": {
          "base_uri": "https://localhost:8080/"
        },
        "outputId": "dd139872-1607-4e98-8e67-b0920669f895"
      },
      "execution_count": 66,
      "outputs": [
        {
          "output_type": "stream",
          "name": "stdout",
          "text": [
            "Accuracy of the network on the 10000 test images: 98.82 %\n"
          ]
        }
      ]
    },
    {
      "cell_type": "code",
      "source": [
        "# Confusion matrix\n",
        "con_mat = confusion_matrix(y_test, y_pred)\n",
        "\n",
        "plt.figure(figsize = (10,8))\n",
        "sns.heatmap(con_mat, linewidths = 0.1, cmap = 'YlOrRd', linecolor = 'gray', fmt = '.1f', annot = True)\n",
        "plt.xlabel('Predicted classes', fontsize = 30)\n",
        "plt.ylabel('True classes', fontsize = 30)"
      ],
      "metadata": {
        "id": "l3Xfn7j8m3Fi",
        "colab": {
          "base_uri": "https://localhost:8080/",
          "height": 533
        },
        "outputId": "46d79bd5-3bfa-4839-feae-a3ceeaafb234"
      },
      "execution_count": 67,
      "outputs": [
        {
          "output_type": "execute_result",
          "data": {
            "text/plain": [
              "Text(69.0, 0.5, 'True classes')"
            ]
          },
          "metadata": {},
          "execution_count": 67
        },
        {
          "output_type": "display_data",
          "data": {
            "text/plain": [
              "<Figure size 720x576 with 2 Axes>"
            ],
            "image/png": "[encoded data removed]"
          },
          "metadata": {
            "needs_background": "light"
          }
        }
      ]
    },
    {
      "cell_type": "code",
      "source": [
        "# Visual test data shape\n",
        "examples = enumerate(test_dataloader)\n",
        "for _ in range(np.random.randint(0, high=len(test_dataloader))):\n",
        "  batch_idx, (example_data, example_targets) = next(examples)\n",
        "print('Batch:',batch_idx)\n",
        "print('Shape of input data:', example_data.shape)\n",
        "print('Shape of output target:', example_targets.shape)"
      ],
      "metadata": {
        "id": "em_DQT17hiVw",
        "colab": {
          "base_uri": "https://localhost:8080/"
        },
        "outputId": "17a80fd2-d806-437c-efd7-571dc5095f16"
      },
      "execution_count": 68,
      "outputs": [
        {
          "output_type": "stream",
          "name": "stdout",
          "text": [
            "Batch: 103\n",
            "Shape of input data: torch.Size([64, 1, 32, 32])\n",
            "Shape of output target: torch.Size([64])\n"
          ]
        }
      ]
    },
    {
      "cell_type": "code",
      "source": [
        "# Visual test data\n",
        "for i in range(15):\n",
        "  plt.subplot(3,5,i+1)\n",
        "  plt.tight_layout()\n",
        "  plt.imshow(example_data[i][0], cmap='gray', interpolation='none')\n",
        "  plt.title(\"Taget: {}\\nPredict: {}\".format(example_targets[i], y_pred[batch_idx*batch_size+i]))\n",
        "  plt.xticks([])\n",
        "  plt.yticks([])"
      ],
      "metadata": {
        "id": "KX4fTNOwhmFC",
        "colab": {
          "base_uri": "https://localhost:8080/",
          "height": 284
        },
        "outputId": "d551e4eb-d6a3-4dd3-c2b1-8f40d9ecfd81"
      },
      "execution_count": 69,
      "outputs": [
        {
          "output_type": "display_data",
          "data": {
            "text/plain": [
              "<Figure size 432x288 with 15 Axes>"
            ],
            "image/png": "[encoded data removed]"
          },
          "metadata": {}
        }
      ]
    }
  ]
}